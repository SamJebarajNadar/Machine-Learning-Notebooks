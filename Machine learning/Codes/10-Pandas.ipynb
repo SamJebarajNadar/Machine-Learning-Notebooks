{
 "cells": [
  {
   "cell_type": "markdown",
   "id": "fatty-basic",
   "metadata": {},
   "source": [
    "### Importing"
   ]
  },
  {
   "cell_type": "code",
   "execution_count": 3,
   "id": "nuclear-marsh",
   "metadata": {},
   "outputs": [],
   "source": [
    "import pandas as pd"
   ]
  },
  {
   "cell_type": "markdown",
   "id": "directed-carolina",
   "metadata": {},
   "source": [
    "### Reading file"
   ]
  },
  {
   "cell_type": "code",
   "execution_count": 4,
   "id": "innovative-trash",
   "metadata": {},
   "outputs": [],
   "source": [
    "data1=pd.read_csv('future.csv')"
   ]
  },
  {
   "cell_type": "markdown",
   "id": "valued-penny",
   "metadata": {},
   "source": [
    "## 1-Head-Tail"
   ]
  },
  {
   "cell_type": "markdown",
   "id": "active-resident",
   "metadata": {},
   "source": [
    "#### 1.1-Head gives out first 5 values by default "
   ]
  },
  {
   "cell_type": "code",
   "execution_count": 9,
   "id": "declared-farming",
   "metadata": {},
   "outputs": [],
   "source": [
    "# data1.head()"
   ]
  },
  {
   "cell_type": "markdown",
   "id": "chronic-airfare",
   "metadata": {},
   "source": [
    "#### 1.2-Tail gives out last 5 values by default"
   ]
  },
  {
   "cell_type": "code",
   "execution_count": 20,
   "id": "bearing-biography",
   "metadata": {},
   "outputs": [],
   "source": [
    "# data1.tail()"
   ]
  },
  {
   "cell_type": "markdown",
   "id": "incoming-joseph",
   "metadata": {},
   "source": [
    "## 2-Index_col"
   ]
  },
  {
   "cell_type": "code",
   "execution_count": 1,
   "id": "handled-canadian",
   "metadata": {},
   "outputs": [
    {
     "ename": "NameError",
     "evalue": "name 'pd' is not defined",
     "output_type": "error",
     "traceback": [
      "\u001b[1;31m---------------------------------------------------------------------------\u001b[0m",
      "\u001b[1;31mNameError\u001b[0m                                 Traceback (most recent call last)",
      "\u001b[1;32m<ipython-input-1-974946da2c27>\u001b[0m in \u001b[0;36m<module>\u001b[1;34m\u001b[0m\n\u001b[1;32m----> 1\u001b[1;33m \u001b[0mdata2\u001b[0m\u001b[1;33m=\u001b[0m\u001b[0mpd\u001b[0m\u001b[1;33m.\u001b[0m\u001b[0mread_csv\u001b[0m\u001b[1;33m(\u001b[0m\u001b[1;34m'future.csv'\u001b[0m\u001b[1;33m,\u001b[0m\u001b[0mindex_col\u001b[0m\u001b[1;33m=\u001b[0m\u001b[1;36m1\u001b[0m\u001b[1;33m)\u001b[0m\u001b[1;33m\u001b[0m\u001b[1;33m\u001b[0m\u001b[0m\n\u001b[0m\u001b[0;32m      2\u001b[0m \u001b[1;31m# index_col makes col 2 as the index , here restaurant is the index now\u001b[0m\u001b[1;33m\u001b[0m\u001b[1;33m\u001b[0m\u001b[1;33m\u001b[0m\u001b[0m\n\u001b[0;32m      3\u001b[0m \u001b[1;31m# data2.head()\u001b[0m\u001b[1;33m\u001b[0m\u001b[1;33m\u001b[0m\u001b[1;33m\u001b[0m\u001b[0m\n",
      "\u001b[1;31mNameError\u001b[0m: name 'pd' is not defined"
     ]
    }
   ],
   "source": [
    "data2=pd.read_csv('future.csv',index_col=1)\n",
    "# index_col makes col 2 as the index , here restaurant is the index now\n",
    "# data2.head()\n"
   ]
  },
  {
   "cell_type": "markdown",
   "id": "about-horror",
   "metadata": {},
   "source": [
    "## 3-Describe"
   ]
  },
  {
   "cell_type": "code",
   "execution_count": 27,
   "id": "technological-hollow",
   "metadata": {},
   "outputs": [],
   "source": [
    "# data2.describe()"
   ]
  },
  {
   "cell_type": "markdown",
   "id": "naked-setup",
   "metadata": {},
   "source": [
    "## 4-Loc and iloc"
   ]
  },
  {
   "cell_type": "markdown",
   "id": "composed-scanner",
   "metadata": {},
   "source": [
    "#### 4.1-iloc in data1"
   ]
  },
  {
   "cell_type": "code",
   "execution_count": 13,
   "id": "satellite-stomach",
   "metadata": {},
   "outputs": [],
   "source": [
    "# data1.iloc[2]"
   ]
  },
  {
   "cell_type": "markdown",
   "id": "growing-vegetation",
   "metadata": {},
   "source": [
    "#### 4.2-loc vs iloc in data2 , loc if you know the value and iloc if you know the position  ,,but both will give same answer , comparison is below"
   ]
  },
  {
   "cell_type": "code",
   "execution_count": 42,
   "id": "assured-public",
   "metadata": {},
   "outputs": [],
   "source": [
    "# data2.iloc[0]"
   ]
  },
  {
   "cell_type": "code",
   "execution_count": 43,
   "id": "knowing-sheet",
   "metadata": {},
   "outputs": [],
   "source": [
    "# data2.loc['Evergreens']"
   ]
  },
  {
   "cell_type": "markdown",
   "id": "geographic-tension",
   "metadata": {},
   "source": [
    "#### 4.3-Ranging with iloc"
   ]
  },
  {
   "cell_type": "code",
   "execution_count": 17,
   "id": "southeast-corner",
   "metadata": {},
   "outputs": [],
   "source": [
    "# data1.iloc[0:10:2]\n"
   ]
  }
 ],
 "metadata": {
  "kernelspec": {
   "display_name": "Python 3",
   "language": "python",
   "name": "python3"
  },
  "language_info": {
   "codemirror_mode": {
    "name": "ipython",
    "version": 3
   },
   "file_extension": ".py",
   "mimetype": "text/x-python",
   "name": "python",
   "nbconvert_exporter": "python",
   "pygments_lexer": "ipython3",
   "version": "3.7.2"
  }
 },
 "nbformat": 4,
 "nbformat_minor": 5
}
