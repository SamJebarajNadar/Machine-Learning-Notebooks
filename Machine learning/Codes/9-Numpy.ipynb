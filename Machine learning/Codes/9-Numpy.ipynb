{
 "cells": [
  {
   "cell_type": "markdown",
   "id": "organizational-pharmacy",
   "metadata": {},
   "source": [
    "## Importing numpy"
   ]
  },
  {
   "cell_type": "code",
   "execution_count": 1,
   "id": "inclusive-salem",
   "metadata": {},
   "outputs": [],
   "source": [
    "import numpy as np"
   ]
  },
  {
   "cell_type": "markdown",
   "id": "rising-priest",
   "metadata": {},
   "source": [
    "# 1-Arrays"
   ]
  },
  {
   "cell_type": "markdown",
   "id": "academic-nothing",
   "metadata": {},
   "source": [
    "### 1.1-Creating array"
   ]
  },
  {
   "cell_type": "code",
   "execution_count": 2,
   "id": "inner-purchase",
   "metadata": {},
   "outputs": [
    {
     "data": {
      "text/plain": [
       "array([1, 2, 3, 4])"
      ]
     },
     "execution_count": 2,
     "metadata": {},
     "output_type": "execute_result"
    }
   ],
   "source": [
    "np1=np.array([1,2,3,4])\n",
    "np1"
   ]
  },
  {
   "cell_type": "code",
   "execution_count": 3,
   "id": "minimal-florida",
   "metadata": {},
   "outputs": [
    {
     "data": {
      "text/plain": [
       "numpy.ndarray"
      ]
     },
     "execution_count": 3,
     "metadata": {},
     "output_type": "execute_result"
    }
   ],
   "source": [
    "type(np1)"
   ]
  },
  {
   "cell_type": "code",
   "execution_count": 31,
   "id": "radio-firewall",
   "metadata": {},
   "outputs": [
    {
     "data": {
      "text/plain": [
       "(4,)"
      ]
     },
     "execution_count": 31,
     "metadata": {},
     "output_type": "execute_result"
    }
   ],
   "source": [
    "np.shape(np1)"
   ]
  },
  {
   "cell_type": "markdown",
   "id": "dress-athletics",
   "metadata": {},
   "source": [
    "# 2-Matrix"
   ]
  },
  {
   "cell_type": "markdown",
   "id": "extreme-extra",
   "metadata": {},
   "source": [
    "### 2.21-Creating matrix using array"
   ]
  },
  {
   "cell_type": "code",
   "execution_count": 9,
   "id": "flexible-floating",
   "metadata": {},
   "outputs": [
    {
     "data": {
      "text/plain": [
       "array([['1', '2', '3'],\n",
       "       ['sam', 'jeba', 'raj']], dtype='<U11')"
      ]
     },
     "execution_count": 9,
     "metadata": {},
     "output_type": "execute_result"
    }
   ],
   "source": [
    "mat1=np.array([[1,2,3],['sam','jeba','raj']])\n",
    "mat1"
   ]
  },
  {
   "cell_type": "code",
   "execution_count": 33,
   "id": "cooperative-corpus",
   "metadata": {},
   "outputs": [
    {
     "data": {
      "text/plain": [
       "(2, 3)"
      ]
     },
     "execution_count": 33,
     "metadata": {},
     "output_type": "execute_result"
    }
   ],
   "source": [
    "np.shape(mat1)"
   ]
  },
  {
   "cell_type": "markdown",
   "id": "automotive-communications",
   "metadata": {},
   "source": [
    "### 2.22-Changing entry at a specific location of matrix"
   ]
  },
  {
   "cell_type": "code",
   "execution_count": 11,
   "id": "warming-dylan",
   "metadata": {},
   "outputs": [
    {
     "data": {
      "text/plain": [
       "array([['1', '2', '3'],\n",
       "       ['sam', 'zeon', 'raj']], dtype='<U11')"
      ]
     },
     "execution_count": 11,
     "metadata": {},
     "output_type": "execute_result"
    }
   ],
   "source": [
    "mat1[1,1]='zeon'\n",
    "mat1"
   ]
  },
  {
   "cell_type": "markdown",
   "id": "cognitive-synthesis",
   "metadata": {},
   "source": [
    "### 2.23- Arange-Linspace-Random\n"
   ]
  },
  {
   "cell_type": "markdown",
   "id": "latin-appreciation",
   "metadata": {},
   "source": [
    "##### Arange-->arange() is an inbuilt numpy function that returns an ndarray object containing evenly spaced values within a defined interval."
   ]
  },
  {
   "cell_type": "code",
   "execution_count": 13,
   "id": "sensitive-course",
   "metadata": {},
   "outputs": [
    {
     "data": {
      "text/plain": [
       "array([0, 2, 4, 6, 8])"
      ]
     },
     "execution_count": 13,
     "metadata": {},
     "output_type": "execute_result"
    }
   ],
   "source": [
    "# Note: It is arange and not arrange\n",
    "mat2=np.arange(0,10,2)\n",
    "mat2"
   ]
  },
  {
   "cell_type": "markdown",
   "id": "reduced-mixture",
   "metadata": {},
   "source": [
    "##### Random.rand- ->The numpy.random.rand() function creates an array of specified shape and fills it with random values"
   ]
  },
  {
   "cell_type": "code",
   "execution_count": 19,
   "id": "heavy-government",
   "metadata": {},
   "outputs": [
    {
     "data": {
      "text/plain": [
       "array([ 0.        ,  1.11111111,  2.22222222,  3.33333333,  4.44444444,\n",
       "        5.55555556,  6.66666667,  7.77777778,  8.88888889, 10.        ])"
      ]
     },
     "execution_count": 19,
     "metadata": {},
     "output_type": "execute_result"
    }
   ],
   "source": [
    "mat3=np.linspace(0,10,10)\n",
    "mat3"
   ]
  },
  {
   "cell_type": "markdown",
   "id": "equal-customer",
   "metadata": {},
   "source": [
    "##### Linspace-->linspace is an in-built function in Python's NumPy library. It is used to create an evenly spaced sequence in a specified interval."
   ]
  },
  {
   "cell_type": "code",
   "execution_count": 34,
   "id": "coordinate-hobby",
   "metadata": {},
   "outputs": [
    {
     "data": {
      "text/plain": [
       "array([[0.13865797, 0.23765469, 0.1159486 , 0.911489  ],\n",
       "       [0.93256367, 0.94965655, 0.96554037, 0.40735604],\n",
       "       [0.20425694, 0.52578008, 0.37794388, 0.40518845],\n",
       "       [0.86076249, 0.71342445, 0.64516607, 0.46129092]])"
      ]
     },
     "execution_count": 34,
     "metadata": {},
     "output_type": "execute_result"
    }
   ],
   "source": [
    "mat4=np.random.rand(4,4)\n",
    "mat4"
   ]
  },
  {
   "cell_type": "code",
   "execution_count": 35,
   "id": "thorough-butterfly",
   "metadata": {},
   "outputs": [
    {
     "data": {
      "text/plain": [
       "0.2376546882182763"
      ]
     },
     "execution_count": 35,
     "metadata": {},
     "output_type": "execute_result"
    }
   ],
   "source": [
    "mat4[0,1]"
   ]
  },
  {
   "cell_type": "code",
   "execution_count": 36,
   "id": "reliable-figure",
   "metadata": {},
   "outputs": [
    {
     "data": {
      "text/plain": [
       "0.2042569390033715"
      ]
     },
     "execution_count": 36,
     "metadata": {},
     "output_type": "execute_result"
    }
   ],
   "source": [
    "mat4[2,0]"
   ]
  }
 ],
 "metadata": {
  "kernelspec": {
   "display_name": "Python 3",
   "language": "python",
   "name": "python3"
  },
  "language_info": {
   "codemirror_mode": {
    "name": "ipython",
    "version": 3
   },
   "file_extension": ".py",
   "mimetype": "text/x-python",
   "name": "python",
   "nbconvert_exporter": "python",
   "pygments_lexer": "ipython3",
   "version": "3.7.2"
  }
 },
 "nbformat": 4,
 "nbformat_minor": 5
}
